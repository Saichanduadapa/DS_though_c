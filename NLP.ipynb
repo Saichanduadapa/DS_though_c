{
  "nbformat": 4,
  "nbformat_minor": 0,
  "metadata": {
    "colab": {
      "provenance": []
    },
    "kernelspec": {
      "name": "python3",
      "display_name": "Python 3"
    },
    "language_info": {
      "name": "python"
    }
  },
  "cells": [
    {
      "cell_type": "markdown",
      "source": [
        "Experiment 1"
      ],
      "metadata": {
        "id": "aDZtsHG0f731"
      }
    },
    {
      "cell_type": "code",
      "execution_count": null,
      "metadata": {
        "colab": {
          "base_uri": "https://localhost:8080/"
        },
        "id": "mxDMovMxfPe8",
        "outputId": "b67e68d5-92a1-43d5-b5b4-937c627ac68f"
      },
      "outputs": [
        {
          "output_type": "stream",
          "name": "stdout",
          "text": [
            "\t #sample <html> <h1> #greetings our college offering computer science course in {b.tech} with 3 specializations & [m.tech] with 1 specialization #computerscience->totalcourses:? https://www.aec.edu.in in our college website !!! </h1> .... \t \n",
            "\t #sample   #greetings our college offering computer science course in {b.tech} with 3 specializations & [m.tech] with 1 specialization #computerscience->totalcourses:? https://www.aec.edu.in in our college website !!!  .... \t \n",
            "\t #sample   #greetings our college offering computer science course in {b.tech} with 3 specializations & [m.tech] with 1 specialization #computerscience->totalcourses:? in our college website !!!  .... \t \n",
            "\t     our college offering computer science course in {b.tech} with 3 specializations & [m.tech] with 1 specialization ->totalcourses:? in our college website !!!  .... \t \n",
            "!\"#$%&'()*+,-./:;<=>?@[\\]^_`{|}~\n",
            "\t     our college offering computer science course in btech with 3 specializations  mtech with 1 specialization totalcourses in our college website    \t \n"
          ]
        }
      ],
      "source": [
        "import re\n",
        "import string\n",
        "input_text = '\\t #sample <HTML> <H1> #Greetings our college offering Computer science course in {B.Tech} with 3 sPecializations & [M.Tech] with 1 specialization #computerscience->totalcourses:? https://www.aec.edu.in in our coLLege website !!! </H1> .... \\t '\n",
        "input_text = input_text.lower()\n",
        "print(input_text)\n",
        "html_pattern = re.compile('<.*?>')\n",
        "input_text=html_pattern.sub(r'' , input_text)\n",
        "print(input_text)\n",
        "url_pattern = re.compile(r'https?://\\S+ | www\\.\\S+')\n",
        "input_text=url_pattern.sub(r'' , input_text)\n",
        "print(input_text)\n",
        "hash_pattern = re.compile(r'#[a-z]+')\n",
        "input_text=hash_pattern.sub(r'' , input_text)\n",
        "print(input_text)\n",
        "print(string.punctuation)\n",
        "for punc in string.punctuation:\n",
        "  if punc in input_text:\n",
        "    input_text = input_text.replace(punc, '')\n",
        "print(input_text)"
      ]
    },
    {
      "cell_type": "markdown",
      "source": [
        "Experiment 2"
      ],
      "metadata": {
        "id": "TGolpQaUf_00"
      }
    },
    {
      "cell_type": "code",
      "source": [
        "from nltk.stem import PorterStemmer\n",
        "from nltk.stem import SnowballStemmer\n",
        "import nltk\n",
        "# Snowball Stemmer has language as a parameter.\n",
        "words = [\"Walking\",\"Swimming\",\"Computer\",\"Computing\",\"Language\",\"Natual\",\"Education\",\"easy\", \"irrational\", \"relation\"]\n",
        "#Create instances of both stemmers, and stem the words using them.\n",
        "stemmer_ps = PorterStemmer()\n",
        "#an instance of Porter Stemmer\n",
        "stemmed_words_ps = [stemmer_ps.stem(word) for word in words]\n",
        "print(\"Porter stemmed words: \", stemmed_words_ps)\n",
        "stemmer_ss = SnowballStemmer(\"english\")\n",
        "#an instance of Snowball Stemmer\n",
        "stemmed_words_ss = [stemmer_ss.stem(word) for word in words]\n",
        "print(\"Snowball stemmed words: \", stemmed_words_ss)\n",
        "sentence=\"I was wonder when I walk in Indian roads because everybody using computers to understand the language so they forgot their mother language it is natural because people are edictedto computer it is irritating me\"\n",
        "token_words=nltk.word_tokenize(sentence) #we need to tokenize the sentence or else stemming will return the entire sentence as is.\n",
        "stem_sentence=[]\n",
        "for word in token_words:\n",
        "  stem_sentence.append(stemmer_ps.stem(word))\n",
        "print(\"The Porter stemmed sentence is: \", stem_sentence)"
      ],
      "metadata": {
        "colab": {
          "base_uri": "https://localhost:8080/"
        },
        "id": "ufbNFi6ffWPl",
        "outputId": "cbf68bdb-6bdb-4b66-c110-021601c97c0d"
      },
      "execution_count": null,
      "outputs": [
        {
          "output_type": "stream",
          "name": "stdout",
          "text": [
            "Porter stemmed words:  ['walk', 'swim', 'comput', 'comput', 'languag', 'natual', 'educ', 'easi', 'irrat', 'relat']\n",
            "Snowball stemmed words:  ['walk', 'swim', 'comput', 'comput', 'languag', 'natual', 'educ', 'easi', 'irrat', 'relat']\n",
            "The Porter stemmed sentence is:  ['i', 'wa', 'wonder', 'when', 'i', 'walk', 'in', 'indian', 'road', 'becaus', 'everybodi', 'use', 'comput', 'to', 'understand', 'the', 'languag', 'so', 'they', 'forgot', 'their', 'mother', 'languag', 'it', 'is', 'natur', 'becaus', 'peopl', 'are', 'edictedto', 'comput', 'it', 'is', 'irrit', 'me']\n"
          ]
        }
      ]
    },
    {
      "cell_type": "markdown",
      "source": [
        "Experiment 3"
      ],
      "metadata": {
        "id": "2OMSf8uDgBnt"
      }
    },
    {
      "cell_type": "code",
      "source": [
        "lookup_dict = {'rt':'Retweet', 'dm':'direct message', \"awsm\" : \"awesome\", \"luv\" :\"love\", \"...\": \" \"}\n",
        "def lookup_words(input_text):\n",
        " words = input_text.split()\n",
        " new_words = []\n",
        " for word in words:\n",
        "\n",
        "  if word.lower() in lookup_dict:\n",
        "    word = lookup_dict[word.lower()]\n",
        "    new_words.append(word)\n",
        " new_text = \" \".join(new_words)\n",
        " return new_text\n",
        "print(lookup_words(\"RT this is a retweeted dm message tweet by Shivam Bansal\"))\n",
        "print(lookup_dict.keys())\n",
        "print(lookup_dict.values())"
      ],
      "metadata": {
        "colab": {
          "base_uri": "https://localhost:8080/"
        },
        "id": "KkhFvSzrffot",
        "outputId": "e7e41b0d-2ef4-40ba-dbdc-306277cf0eec"
      },
      "execution_count": null,
      "outputs": [
        {
          "output_type": "stream",
          "name": "stdout",
          "text": [
            "Retweet direct message\n",
            "dict_keys(['rt', 'dm', 'awsm', 'luv', '...'])\n",
            "dict_values(['Retweet', 'direct message', 'awesome', 'love', ' '])\n"
          ]
        }
      ]
    },
    {
      "cell_type": "markdown",
      "source": [
        "Experiment 4"
      ],
      "metadata": {
        "id": "4vISn_qsgDhl"
      }
    },
    {
      "cell_type": "code",
      "source": [
        "import nltk\n",
        "from nltk.corpus import state_union\n",
        "from nltk.tokenize import PunktSentenceTokenizer\n",
        "nltk.download('state_union')\n",
        "train_text = state_union.raw(\"2005-GWBush.txt\")\n",
        "sample_text = state_union.raw(\"2006-GWBush.txt\")\n",
        "custom_sent_tokenizer = PunktSentenceTokenizer(train_text)\n",
        "tokenized = custom_sent_tokenizer.tokenize(sample_text)\n",
        "nltk.download('punkt')\n",
        "nltk.download('averaged_perceptron_tagger')\n",
        "def process_content():\n",
        "  try:\n",
        "    for i in tokenized[:5]:\n",
        "      words = nltk.word_tokenize(i)\n",
        "      tagged = nltk.pos_tag(words)\n",
        "      print(tagged)\n",
        "  except Exception as e:\n",
        "      print(str(e))\n",
        "process_content()"
      ],
      "metadata": {
        "colab": {
          "base_uri": "https://localhost:8080/"
        },
        "id": "sjBm67N2fmBF",
        "outputId": "0b5cb7f8-bec6-4530-9df0-1af8e884c728"
      },
      "execution_count": null,
      "outputs": [
        {
          "output_type": "stream",
          "name": "stdout",
          "text": [
            "[('PRESIDENT', 'NNP'), ('GEORGE', 'NNP'), ('W.', 'NNP'), ('BUSH', 'NNP'), (\"'S\", 'POS'), ('ADDRESS', 'NNP'), ('BEFORE', 'IN'), ('A', 'NNP'), ('JOINT', 'NNP'), ('SESSION', 'NNP'), ('OF', 'IN'), ('THE', 'NNP'), ('CONGRESS', 'NNP'), ('ON', 'NNP'), ('THE', 'NNP'), ('STATE', 'NNP'), ('OF', 'IN'), ('THE', 'NNP'), ('UNION', 'NNP'), ('January', 'NNP'), ('31', 'CD'), (',', ','), ('2006', 'CD'), ('THE', 'NNP'), ('PRESIDENT', 'NNP'), (':', ':'), ('Thank', 'NNP'), ('you', 'PRP'), ('all', 'DT'), ('.', '.')]\n",
            "[('Mr.', 'NNP'), ('Speaker', 'NNP'), (',', ','), ('Vice', 'NNP'), ('President', 'NNP'), ('Cheney', 'NNP'), (',', ','), ('members', 'NNS'), ('of', 'IN'), ('Congress', 'NNP'), (',', ','), ('members', 'NNS'), ('of', 'IN'), ('the', 'DT'), ('Supreme', 'NNP'), ('Court', 'NNP'), ('and', 'CC'), ('diplomatic', 'JJ'), ('corps', 'NN'), (',', ','), ('distinguished', 'JJ'), ('guests', 'NNS'), (',', ','), ('and', 'CC'), ('fellow', 'JJ'), ('citizens', 'NNS'), (':', ':'), ('Today', 'VB'), ('our', 'PRP$'), ('nation', 'NN'), ('lost', 'VBD'), ('a', 'DT'), ('beloved', 'VBN'), (',', ','), ('graceful', 'JJ'), (',', ','), ('courageous', 'JJ'), ('woman', 'NN'), ('who', 'WP'), ('called', 'VBD'), ('America', 'NNP'), ('to', 'TO'), ('its', 'PRP$'), ('founding', 'NN'), ('ideals', 'NNS'), ('and', 'CC'), ('carried', 'VBD'), ('on', 'IN'), ('a', 'DT'), ('noble', 'JJ'), ('dream', 'NN'), ('.', '.')]\n",
            "[('Tonight', 'NN'), ('we', 'PRP'), ('are', 'VBP'), ('comforted', 'VBN'), ('by', 'IN'), ('the', 'DT'), ('hope', 'NN'), ('of', 'IN'), ('a', 'DT'), ('glad', 'JJ'), ('reunion', 'NN'), ('with', 'IN'), ('the', 'DT'), ('husband', 'NN'), ('who', 'WP'), ('was', 'VBD'), ('taken', 'VBN'), ('so', 'RB'), ('long', 'RB'), ('ago', 'RB'), (',', ','), ('and', 'CC'), ('we', 'PRP'), ('are', 'VBP'), ('grateful', 'JJ'), ('for', 'IN'), ('the', 'DT'), ('good', 'JJ'), ('life', 'NN'), ('of', 'IN'), ('Coretta', 'NNP'), ('Scott', 'NNP'), ('King', 'NNP'), ('.', '.')]\n",
            "[('(', '('), ('Applause', 'NNP'), ('.', '.'), (')', ')')]\n",
            "[('President', 'NNP'), ('George', 'NNP'), ('W.', 'NNP'), ('Bush', 'NNP'), ('reacts', 'VBZ'), ('to', 'TO'), ('applause', 'VB'), ('during', 'IN'), ('his', 'PRP$'), ('State', 'NNP'), ('of', 'IN'), ('the', 'DT'), ('Union', 'NNP'), ('Address', 'NNP'), ('at', 'IN'), ('the', 'DT'), ('Capitol', 'NNP'), (',', ','), ('Tuesday', 'NNP'), (',', ','), ('Jan', 'NNP'), ('.', '.')]\n"
          ]
        },
        {
          "output_type": "stream",
          "name": "stderr",
          "text": [
            "[nltk_data] Downloading package state_union to /root/nltk_data...\n",
            "[nltk_data]   Package state_union is already up-to-date!\n",
            "[nltk_data] Downloading package punkt to /root/nltk_data...\n",
            "[nltk_data]   Package punkt is already up-to-date!\n",
            "[nltk_data] Downloading package averaged_perceptron_tagger to\n",
            "[nltk_data]     /root/nltk_data...\n",
            "[nltk_data]   Package averaged_perceptron_tagger is already up-to-\n",
            "[nltk_data]       date!\n"
          ]
        }
      ]
    },
    {
      "cell_type": "markdown",
      "source": [
        "Experiment 5"
      ],
      "metadata": {
        "id": "jAgzRDU8gFIc"
      }
    },
    {
      "cell_type": "code",
      "source": [
        "!pip install stop_words\n",
        "from nltk.tokenize import RegexpTokenizer\n",
        "from stop_words import get_stop_words\n",
        "from nltk.stem.porter import PorterStemmer\n",
        "from gensim import corpora, models\n",
        "import gensim\n",
        "tokenizer = RegexpTokenizer(r'\\W+')\n",
        "\n",
        "en_stop = get_stop_words('en')\n",
        "\n",
        "p_stemmer = PorterStemmer()\n",
        "\n",
        "doc_a = \"Brocolli is good to eat. My brother likes to eat good brocolli, but not my mother.\"\n",
        "doc_b = \"My mother spends a lot of time driving my brother around to baseball practice.\"\n",
        "doc_c = \"Some health experts suggest that driving may cause increased tension and blood pressure.\"\n",
        "doc_d = \"I often feel pressure to perform well at school, but my mother never seems to drive my brother to do better.\"\n",
        "doc_e = \"Health professionals say that brocolli is good for your health.\"\n",
        "# compile sample documents into a list\n",
        "doc_set = [doc_a, doc_b, doc_c, doc_d, doc_e]\n",
        "\n",
        "texts = []\n",
        "\n",
        "for i in doc_set:\n",
        "  raw = i.lower()\n",
        "  tokens = tokenizer.tokenize(raw)\n",
        "\n",
        "  stopped_tokens = [i for i in tokens if not i in en_stop]\n",
        "\n",
        "  stemmed_tokens = [p_stemmer.stem(i) for i in stopped_tokens]\n",
        "\n",
        "  texts.append(stemmed_tokens)\n",
        "\n",
        "dictionary = corpora.Dictionary(texts)\n",
        "\n",
        "corpus = [dictionary.doc2bow(text) for text in texts]\n",
        "names = [\"First\",\"Second\",\"Third\",\"Fourth\",\"Fifth\",\"Sixth\",\"Seventh\"]\n",
        "ldamodel = gensim.models.ldamodel.LdaModel(corpus,num_topics=2,id2word=dictionary,passes=20)\n",
        "\n",
        "print(ldamodel.num_terms)\n",
        "print(ldamodel.num_topics)\n",
        "print(ldamodel.get_topics())\n",
        "ldamodel.print_topics()\n",
        "\n",
        "print(ldamodel.print_topics(num_topics=3, num_words=3))\n",
        "ldamodel = gensim.models.ldamodel.LdaModel(corpus, num_topics=4, id2word = dictionary, passes=20)\n",
        "print(ldamodel.print_topics(num_topics=4, num_words=8))"
      ],
      "metadata": {
        "colab": {
          "base_uri": "https://localhost:8080/"
        },
        "id": "_nb7ZGvufmvM",
        "outputId": "e1390443-6f21-4e30-d00a-41a293691d1e"
      },
      "execution_count": null,
      "outputs": [
        {
          "output_type": "stream",
          "name": "stdout",
          "text": [
            "Requirement already satisfied: stop_words in /usr/local/lib/python3.10/dist-packages (2018.7.23)\n",
            "4\n",
            "2\n",
            "[[0.8912317  0.02763413 0.0712916  0.00984257]\n",
            " [0.24683443 0.24393032 0.18378927 0.32544598]]\n",
            "[(0, '0.891*\" \" + 0.071*\".\" + 0.028*\", \"'), (1, '0.325*\". \" + 0.247*\" \" + 0.244*\", \"')]\n",
            "[(0, '0.250*\". \" + 0.250*\".\" + 0.250*\" \" + 0.250*\", \"'), (1, '0.884*\" \" + 0.070*\".\" + 0.030*\", \" + 0.017*\". \"'), (2, '0.250*\". \" + 0.250*\".\" + 0.250*\" \" + 0.250*\", \"'), (3, '0.253*\" \" + 0.249*\".\" + 0.249*\". \" + 0.248*\", \"')]\n"
          ]
        }
      ]
    },
    {
      "cell_type": "markdown",
      "source": [
        "Experiment 6"
      ],
      "metadata": {
        "id": "Lh_W54XWgG8z"
      }
    },
    {
      "cell_type": "code",
      "source": [
        "import pandas as pd\n",
        "import numpy as np\n",
        "\n",
        "corpus = [\n",
        "    'data science is one of the most important fields of science',\n",
        "    'this is one of the best data science courses',\n",
        "    'data scientists analyze data'\n",
        "]\n",
        "\n",
        "words_set = set()\n",
        "\n",
        "# Tokenize each document and update the set of unique words\n",
        "for doc in corpus:\n",
        "    words = doc.split(' ')\n",
        "    words_set.update(words)\n",
        "\n",
        "print('Number of words in the corpus:', len(words_set))\n",
        "print('The words in the corpus: \\n', words_set)\n",
        "\n",
        "n_docs = len(corpus)  # Number of documents in the corpus\n",
        "n_words_set = len(words_set)  # Number of unique words in the set\n",
        "\n",
        "# Initialize a DataFrame with zeros\n",
        "df_tf = pd.DataFrame(np.zeros((n_docs, n_words_set)), columns=list(words_set))\n",
        "\n",
        "# Compute Term Frequency (TF)\n",
        "for i in range(n_docs):\n",
        "    words = corpus[i].split(' ')  # Words in the document\n",
        "    for w in words:\n",
        "        df_tf[w][i] = df_tf[w][i] + (1 / len(words))\n",
        "\n",
        "# Display the Term Frequency DataFrame\n",
        "print(\"Term Frequency (TF):\")\n",
        "print(df_tf)\n",
        "\n",
        "# Compute Inverse Document Frequency (IDF)\n",
        "idf = {}\n",
        "for w in words_set:\n",
        "    k = sum(1 for doc in corpus if w in doc.split())\n",
        "    idf[w] = np.log10(n_docs / k)\n",
        "\n",
        "# Display the IDF values\n",
        "print(\"\\nIDF of:\")\n",
        "for w, value in idf.items():\n",
        "    print(f'{w:>15}: {value:>10}')\n",
        "\n",
        "# Compute TF-IDF\n",
        "df_tf_idf = df_tf.copy()\n",
        "for w in words_set:\n",
        "    for i in range(n_docs):\n",
        "        df_tf_idf[w][i] = df_tf[w][i] * idf[w]\n",
        "\n",
        "# Display the TF-IDF DataFrame\n",
        "print(\"\\nTF-IDF:\")\n",
        "print(df_tf_idf)\n"
      ],
      "metadata": {
        "colab": {
          "base_uri": "https://localhost:8080/"
        },
        "id": "RUKC-Lb-fp0K",
        "outputId": "5be1d3f6-a4aa-47cc-c8f8-3d93f5cc3044"
      },
      "execution_count": null,
      "outputs": [
        {
          "output_type": "stream",
          "name": "stdout",
          "text": [
            "Number of words in the corpus: 14\n",
            "The words in the corpus: \n",
            " {'is', 'most', 'data', 'of', 'best', 'fields', 'one', 'scientists', 'important', 'the', 'science', 'courses', 'this', 'analyze'}\n",
            "Term Frequency (TF):\n",
            "         is      most      data        of      best    fields       one  \\\n",
            "0  0.090909  0.090909  0.090909  0.181818  0.000000  0.090909  0.090909   \n",
            "1  0.111111  0.000000  0.111111  0.111111  0.111111  0.000000  0.111111   \n",
            "2  0.000000  0.000000  0.500000  0.000000  0.000000  0.000000  0.000000   \n",
            "\n",
            "   scientists  important       the   science   courses      this  analyze  \n",
            "0        0.00   0.090909  0.090909  0.181818  0.000000  0.000000     0.00  \n",
            "1        0.00   0.000000  0.111111  0.111111  0.111111  0.111111     0.00  \n",
            "2        0.25   0.000000  0.000000  0.000000  0.000000  0.000000     0.25  \n",
            "\n",
            "IDF of:\n",
            "             is: 0.17609125905568124\n",
            "           most: 0.47712125471966244\n",
            "           data:        0.0\n",
            "             of: 0.17609125905568124\n",
            "           best: 0.47712125471966244\n",
            "         fields: 0.47712125471966244\n",
            "            one: 0.17609125905568124\n",
            "     scientists: 0.47712125471966244\n",
            "      important: 0.47712125471966244\n",
            "            the: 0.17609125905568124\n",
            "        science: 0.17609125905568124\n",
            "        courses: 0.47712125471966244\n",
            "           this: 0.47712125471966244\n",
            "        analyze: 0.47712125471966244\n",
            "\n",
            "TF-IDF:\n",
            "         is      most  data        of      best    fields       one  \\\n",
            "0  0.016008  0.043375   0.0  0.032017  0.000000  0.043375  0.016008   \n",
            "1  0.019566  0.000000   0.0  0.019566  0.053013  0.000000  0.019566   \n",
            "2  0.000000  0.000000   0.0  0.000000  0.000000  0.000000  0.000000   \n",
            "\n",
            "   scientists  important       the   science   courses      this  analyze  \n",
            "0     0.00000   0.043375  0.016008  0.032017  0.000000  0.000000  0.00000  \n",
            "1     0.00000   0.000000  0.019566  0.019566  0.053013  0.053013  0.00000  \n",
            "2     0.11928   0.000000  0.000000  0.000000  0.000000  0.000000  0.11928  \n"
          ]
        }
      ]
    },
    {
      "cell_type": "markdown",
      "source": [
        "Experiment 7"
      ],
      "metadata": {
        "id": "gxO4D9POgI9t"
      }
    },
    {
      "cell_type": "code",
      "source": [
        "from gensim.models import Word2Vec\n",
        "# define training data\n",
        "sentences = [['this', 'is', 'the', 'first', 'sentence', 'for', 'word2vec'],\n",
        "['this', 'is', 'the', 'second', 'sentence'],\n",
        "['yet', 'another', 'sentence'],\n",
        "['one', 'more', 'sentence'],\n",
        "['and', 'the', 'final', 'sentence']]\n",
        "# train model\n",
        "model = Word2Vec(sentences, min_count=1)\n",
        "# summarize the loaded model\n",
        "print(model)\n",
        "# summarize vocabulary\n",
        "words = list(model.wv.key_to_index)\n",
        "print(words)\n",
        "# access vector for one word\n",
        "print(model.wv['final'])\n",
        "# save model\n",
        "model.save('model.bin')\n",
        "# load model\n",
        "new_model = Word2Vec.load('model.bin')\n",
        "print(new_model)"
      ],
      "metadata": {
        "colab": {
          "base_uri": "https://localhost:8080/"
        },
        "id": "B0LGJEwtfqXq",
        "outputId": "e4035849-dd89-48f2-e0db-72ff0438b6b1"
      },
      "execution_count": null,
      "outputs": [
        {
          "output_type": "stream",
          "name": "stdout",
          "text": [
            "Word2Vec<vocab=14, vector_size=100, alpha=0.025>\n",
            "['sentence', 'the', 'is', 'this', 'final', 'and', 'more', 'one', 'another', 'yet', 'second', 'word2vec', 'for', 'first']\n",
            "[-0.00713902  0.00124103 -0.00717672 -0.00224462  0.0037193   0.00583312\n",
            "  0.00119818  0.00210273 -0.00411039  0.00722533 -0.00630704  0.00464722\n",
            " -0.00821997  0.00203647 -0.00497705 -0.00424769 -0.00310898  0.00565521\n",
            "  0.0057984  -0.00497465  0.00077333 -0.00849578  0.00780981  0.00925729\n",
            " -0.00274233  0.00080022  0.00074665  0.00547788 -0.00860608  0.00058446\n",
            "  0.00686942  0.00223159  0.00112468 -0.00932216  0.00848237 -0.00626413\n",
            " -0.00299237  0.00349379 -0.00077263  0.00141129  0.00178199 -0.0068289\n",
            " -0.00972481  0.00904058  0.00619805 -0.00691293  0.00340348  0.00020606\n",
            "  0.00475375 -0.00711994  0.00402695  0.00434743  0.00995737 -0.00447374\n",
            " -0.00138926 -0.00731732 -0.00969783 -0.00908026 -0.00102275 -0.00650329\n",
            "  0.00484973 -0.00616403  0.00251919  0.00073944 -0.00339215 -0.00097922\n",
            "  0.00997913  0.00914589 -0.00446183  0.00908303 -0.00564176  0.00593092\n",
            " -0.00309722  0.00343175  0.00301723  0.00690046 -0.00237388  0.00877504\n",
            "  0.00758943 -0.00954765 -0.00800821 -0.0076379   0.00292326 -0.00279472\n",
            " -0.00692952 -0.00812826  0.00830918  0.00199049 -0.00932802 -0.00479272\n",
            "  0.00313674 -0.00471321  0.00528084 -0.00423344  0.0026418  -0.00804569\n",
            "  0.00620989  0.00481889  0.00078719  0.00301345]\n",
            "Word2Vec<vocab=14, vector_size=100, alpha=0.025>\n"
          ]
        }
      ]
    },
    {
      "cell_type": "markdown",
      "source": [
        "Experiment 8"
      ],
      "metadata": {
        "id": "-EosphgigLF8"
      }
    },
    {
      "cell_type": "code",
      "source": [
        "!pip install textblob\n",
        "import nltk\n",
        "nltk.download('punkt')\n",
        "train = [('What an amazing weather.', 'pos'),\n",
        "('this is an amazing idea!', 'pos'),\n",
        "('I feel very good about these ideas.', 'pos'),\n",
        "('this is my best performance.', 'pos'),\n",
        "(\"what an awesome view\", 'pos'),\n",
        "('I do not like this place', 'neg'),\n",
        "('I am tired of this stuff.', 'neg'),\n",
        "(\"I can't deal with all this tension\", 'neg'),\n",
        "('he is my sworn enemy!', 'neg'),\n",
        "('my friends is horrible.', 'neg')]\n",
        "test = [\n",
        "('the food was great.', 'pos'),\n",
        "('I do not want to live anymore', 'neg'),\n",
        "(\"I ain't feeling dandy today.\", 'neg'),\n",
        "(\"I feel amazing!\", 'pos'),\n",
        "('Ramesh is a friend of mine.', 'pos'),\n",
        "(\"I can't believe I'm doing this.\", 'neg')\n",
        "]\n",
        "from textblob.classifiers import NaiveBayesClassifier\n",
        "cl = NaiveBayesClassifier(train)\n",
        "print(cl.classify(\"This is an amazing library!\"))\n",
        "# Lets test the accuracy of the classifier\n",
        "print(cl.accuracy(test))\n",
        "# print(cl.classify(\"my friends is tension\"))\n",
        "# print(cl.accuracy(test))\n",
        "cl.show_informative_features(4)"
      ],
      "metadata": {
        "colab": {
          "base_uri": "https://localhost:8080/"
        },
        "id": "ALIBZxDOfsQ0",
        "outputId": "ea847759-bf54-4014-b1b5-22fb6be48de7"
      },
      "execution_count": null,
      "outputs": [
        {
          "output_type": "stream",
          "name": "stdout",
          "text": [
            "Requirement already satisfied: textblob in /usr/local/lib/python3.10/dist-packages (0.17.1)\n",
            "Requirement already satisfied: nltk>=3.1 in /usr/local/lib/python3.10/dist-packages (from textblob) (3.8.1)\n",
            "Requirement already satisfied: click in /usr/local/lib/python3.10/dist-packages (from nltk>=3.1->textblob) (8.1.7)\n",
            "Requirement already satisfied: joblib in /usr/local/lib/python3.10/dist-packages (from nltk>=3.1->textblob) (1.3.2)\n",
            "Requirement already satisfied: regex>=2021.8.3 in /usr/local/lib/python3.10/dist-packages (from nltk>=3.1->textblob) (2023.6.3)\n",
            "Requirement already satisfied: tqdm in /usr/local/lib/python3.10/dist-packages (from nltk>=3.1->textblob) (4.66.1)\n",
            "pos\n",
            "0.8333333333333334\n",
            "Most Informative Features\n",
            "             contains(I) = True              neg : pos    =      2.3 : 1.0\n",
            "            contains(an) = False             neg : pos    =      2.2 : 1.0\n",
            "             contains(I) = False             pos : neg    =      1.8 : 1.0\n",
            "            contains(my) = True              neg : pos    =      1.7 : 1.0\n"
          ]
        },
        {
          "output_type": "stream",
          "name": "stderr",
          "text": [
            "[nltk_data] Downloading package punkt to /root/nltk_data...\n",
            "[nltk_data]   Package punkt is already up-to-date!\n"
          ]
        }
      ]
    },
    {
      "cell_type": "markdown",
      "source": [
        "Experiment 9"
      ],
      "metadata": {
        "id": "bheTw2yXgOk0"
      }
    },
    {
      "cell_type": "code",
      "source": [
        "\n",
        "import numpy as np\n",
        "import matplotlib.pyplot as plt\n",
        "from sklearn import svm, datasets\n",
        "# import some data to play with\n",
        "iris = datasets.load_iris()\n",
        "X = iris.data[:, :2] # we only take the first two features. We could\n",
        "# avoid this ugly slicing by using a two-dim dataset\n",
        "y = iris.target\n",
        "# we create an instance of SVM and fit out data. We do not scale our\n",
        "# data since we want to plot the support vectors\n",
        "C = 1.0 # SVM regularization parameter\n",
        "svc = svm.SVC(kernel='linear', C=1,gamma='auto').fit(X, y)\n",
        "# create a mesh to plot in\n",
        "x_min, x_max = X[:, 0].min() - 1, X[:, 0].max() + 1\n",
        "y_min, y_max = X[:, 1].min() - 1, X[:, 1].max() + 1\n",
        "h = (x_max / x_min)/100\n",
        "xx, yy = np.meshgrid(np.arange(x_min, x_max, h),\n",
        "np.arange(y_min, y_max, h))\n",
        "plt.subplot(1, 1, 1)\n",
        "Z = svc.predict(np.c_[xx.ravel(), yy.ravel()])\n",
        "Z = Z.reshape(xx.shape)\n",
        "plt.contourf(xx, yy, Z, cmap=plt.cm.Paired, alpha=0.8)\n",
        "plt.scatter(X[:, 0], X[:, 1], c=y, cmap=plt.cm.Paired)\n",
        "plt.xlabel('Sepal length')\n",
        "plt.ylabel('Sepal width')\n",
        "plt.xlim(xx.min(), xx.max())\n",
        "plt.title('SVC with linear kernel')\n",
        "plt.show()\n",
        "svc = svm.SVC(kernel='rbf', C=1,gamma='auto').fit(X, y)\n",
        "plt.scatter(X[:, 0], X[:, 1], c=y, cmap=plt.cm.Paired)\n",
        "plt.xlabel('Sepal length')\n",
        "plt.ylabel('Sepal width')\n",
        "plt.xlim(xx.min(), xx.max())\n",
        "plt.title('SVC with linear kernel')\n",
        "plt.show()"
      ],
      "metadata": {
        "colab": {
          "base_uri": "https://localhost:8080/",
          "height": 927
        },
        "id": "gM0axzRFft0b",
        "outputId": "1714b892-ee00-48ba-fd02-bc26012cbdea"
      },
      "execution_count": null,
      "outputs": [
        {
          "output_type": "display_data",
          "data": {
            "text/plain": [
              "<Figure size 640x480 with 1 Axes>"
            ],
            "image/png": "[encoded data removed]"
          },
          "metadata": {}
        },
        {
          "output_type": "display_data",
          "data": {
            "text/plain": [
              "<Figure size 640x480 with 1 Axes>"
            ],
            "image/png": "[encoded data removed]"
          },
          "metadata": {}
        }
      ]
    },
    {
      "cell_type": "markdown",
      "source": [
        "Experiment 10"
      ],
      "metadata": {
        "id": "dWrmzZyvgQ2k"
      }
    },
    {
      "cell_type": "code",
      "source": [
        "\n",
        "from sklearn.feature_extraction.text import CountVectorizer\n",
        "from sklearn.feature_extraction.text import TfidfVectorizer\n",
        "from sklearn.metrics.pairwise import cosine_similarity\n",
        "import pandas as pd\n",
        "count_vect = CountVectorizer()\n",
        "Document1= \"Aditya Engineering College situated at Surampalem\"\n",
        "Document2= \"Engineering Colleges offer computer science courses in MCA AIML CSE IT departments\"\n",
        "Document3= \"Computer science students have opprtunities in IT sector\"\n",
        "Document4= \"IT sector hire students with skills in computer science\"\n",
        "corpus = [Document1,Document2,Document3,Document4]\n",
        "X_train_counts = count_vect.fit_transform(corpus)\n",
        "df1=pd.DataFrame(X_train_counts.toarray(),columns=count_vect.get_feature_names_out(),index=['Document 0','Document 1','Document2','Document3'])\n",
        "vectorizer = TfidfVectorizer()\n",
        "trsfm=vectorizer.fit_transform(corpus)\n",
        "df2=pd.DataFrame(trsfm.toarray(),columns=vectorizer.get_feature_names_out(),index=['Document 0','Document 1','Document 2','Document 3'])\n",
        "print(df1)\n",
        "print(df2)\n",
        "cosine_similarity(trsfm[0:3], trsfm)"
      ],
      "metadata": {
        "colab": {
          "base_uri": "https://localhost:8080/"
        },
        "id": "sC2XssYnfwJc",
        "outputId": "f6cc665e-96c8-40e1-e4a5-8437840e15c5"
      },
      "execution_count": null,
      "outputs": [
        {
          "output_type": "stream",
          "name": "stdout",
          "text": [
            "            aditya  aiml  at  college  colleges  computer  courses  cse  \\\n",
            "Document 0       1     0   1        1         0         0        0    0   \n",
            "Document 1       0     1   0        0         1         1        1    1   \n",
            "Document2        0     0   0        0         0         1        0    0   \n",
            "Document3        0     0   0        0         0         1        0    0   \n",
            "\n",
            "            departments  engineering  ...  mca  offer  opprtunities  science  \\\n",
            "Document 0            0            1  ...    0      0             0        0   \n",
            "Document 1            1            1  ...    1      1             0        1   \n",
            "Document2             0            0  ...    0      0             1        1   \n",
            "Document3             0            0  ...    0      0             0        1   \n",
            "\n",
            "            sector  situated  skills  students  surampalem  with  \n",
            "Document 0       0         1       0         0           1     0  \n",
            "Document 1       0         0       0         0           0     0  \n",
            "Document2        1         0       0         1           0     0  \n",
            "Document3        1         0       1         1           0     1  \n",
            "\n",
            "[4 rows x 24 columns]\n",
            "              aditya      aiml        at   college  colleges  computer  \\\n",
            "Document 0  0.421765  0.000000  0.421765  0.421765  0.000000  0.000000   \n",
            "Document 1  0.000000  0.328776  0.000000  0.000000  0.328776  0.209853   \n",
            "Document 2  0.000000  0.000000  0.000000  0.000000  0.000000  0.289152   \n",
            "Document 3  0.000000  0.000000  0.000000  0.000000  0.000000  0.263386   \n",
            "\n",
            "             courses       cse  departments  engineering  ...       mca  \\\n",
            "Document 0  0.000000  0.000000     0.000000     0.332524  ...  0.000000   \n",
            "Document 1  0.328776  0.328776     0.328776     0.259211  ...  0.328776   \n",
            "Document 2  0.000000  0.000000     0.000000     0.000000  ...  0.000000   \n",
            "Document 3  0.000000  0.000000     0.000000     0.000000  ...  0.000000   \n",
            "\n",
            "               offer  opprtunities   science    sector  situated    skills  \\\n",
            "Document 0  0.000000      0.000000  0.000000  0.000000  0.421765  0.000000   \n",
            "Document 1  0.328776      0.000000  0.209853  0.000000  0.000000  0.000000   \n",
            "Document 2  0.000000      0.453012  0.289152  0.357160  0.000000  0.000000   \n",
            "Document 3  0.000000      0.000000  0.263386  0.325334  0.000000  0.412645   \n",
            "\n",
            "            students  surampalem      with  \n",
            "Document 0  0.000000    0.421765  0.000000  \n",
            "Document 1  0.000000    0.000000  0.000000  \n",
            "Document 2  0.357160    0.000000  0.000000  \n",
            "Document 3  0.325334    0.000000  0.412645  \n",
            "\n",
            "[4 rows x 24 columns]\n"
          ]
        },
        {
          "output_type": "execute_result",
          "data": {
            "text/plain": [
              "array([[1.        , 0.08619387, 0.        , 0.        ],\n",
              "       [0.08619387, 1.        , 0.24271786, 0.22108976],\n",
              "       [0.        , 0.24271786, 1.        , 0.53702605]])"
            ]
          },
          "metadata": {},
          "execution_count": 15
        }
      ]
    }
  ]
}